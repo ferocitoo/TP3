{
 "cells": [
  {
   "cell_type": "markdown",
   "metadata": {},
   "source": [
    "# Malus experience 2\n",
    "## Done by varying the angle of the two HWP\n"
   ]
  },
  {
   "cell_type": "markdown",
   "metadata": {},
   "source": [
    "### Importing modules"
   ]
  },
  {
   "cell_type": "code",
   "execution_count": 1,
   "metadata": {},
   "outputs": [],
   "source": [
    "import numpy as np\n",
    "import matplotlib.pyplot as plt\n",
    "import importlib.util\n",
    "import sys\n",
    "import os\n",
    "from matplotlib.ticker import FuncFormatter\n",
    "from matplotlib.lines import Line2D\n",
    "import matplotlib.patches as mpatches\n",
    "from matplotlib.collections import PathCollection\n",
    "\n",
    "from matplotlib.patches import Rectangle\n",
    "from matplotlib.patches import ConnectionPatch\n",
    "\n",
    "from scipy.optimize import curve_fit\n",
    "\n",
    "module_name = \"utils_v2\"\n",
    "file_path = \"/workspaces/TP3/utils_v2.py\"\n",
    "\n",
    "spec = importlib.util.spec_from_file_location(module_name, file_path)\n",
    "module = importlib.util.module_from_spec(spec)\n",
    "sys.modules[module_name] = module\n",
    "spec.loader.exec_module(module)\n",
    "\n",
    "# Importer le module\n",
    "import utils_v2 as u\n",
    "\n",
    "import pandas as pd"
   ]
  },
  {
   "cell_type": "markdown",
   "metadata": {},
   "source": [
    "### Importing Data\n"
   ]
  },
  {
   "cell_type": "code",
   "execution_count": 4,
   "metadata": {},
   "outputs": [],
   "source": [
    "degs1 = np.array([0,22,45,67])\n",
    "degs2 = np.array([11,34,56,79])\n",
    "\n",
    "\n",
    "datas = np.zeros((len(degs1),len(degs2)))\n",
    "\n",
    "for i,deg1 in enumerate(degs1) :\n",
    "    for j,deg2 in enumerate(degs2) :\n",
    "        data = pd.read_csv(\"/workspaces/TP3/TP_Intrication-Quantique/Datas/2crystals/spectrum_2crystals_{}_{}.csv\".format(deg1,deg2), sep=\";\",header=0)\n",
    "        \n",
    "        delays = np.concatenate([-data.iloc[:,0].to_numpy()[::-1],data.iloc[:,0].to_numpy()]) \n",
    "        counts = np.concatenate([data.iloc[:,1].to_numpy()[::-1],data.iloc[:,2].to_numpy()])\n",
    "        \n",
    "        max_counts = np.max(counts)\n",
    "        \n",
    "        datas[i][j] = max_counts\n",
    "        \n",
    "    \n",
    "    \n",
    "    \n"
   ]
  },
  {
   "cell_type": "markdown",
   "metadata": {},
   "source": [
    "### Process an plot the data"
   ]
  },
  {
   "cell_type": "code",
   "execution_count": 5,
   "metadata": {},
   "outputs": [
    {
     "name": "stdout",
     "output_type": "stream",
     "text": [
      "0.6540417962374525\n"
     ]
    }
   ],
   "source": [
    "\n",
    "#the function E(alpha,beta) = P_{alpha,beta} + P_{alpha_,beta_} - P_{alpha_,beta} - P_{alpha,beta_}\n",
    "\n",
    "#alpha beta\n",
    "E_0_11 = (datas[0,0] + datas[2,2] - datas[0,2] - datas[2,0])/(datas[0,0] + datas[2,2] + datas[0,2] + datas[2,0])\n",
    "\n",
    "#alphaprime betaprime\n",
    "E_22_34 = (datas[1,1] + datas[3,3] - datas[1,3] - datas[3,1])/(datas[1,1] + datas[3,3] + datas[1,3] + datas[3,1])\n",
    "\n",
    "#alpha betaprime\n",
    "E_0_34 = (datas[0,1] + datas[2,3] - datas[0,3] - datas[2,1])/(datas[0,1] + datas[2,3] + datas[0,3] + datas[2,1])\n",
    "\n",
    "#alphaprime beta\n",
    "E_22_11 = (datas[1,0] + datas[3,2] - datas[1,2] - datas[3,0])/(datas[1,0] + datas[3,2] + datas[1,2] + datas[3,0])\n",
    "\n",
    "E_tot = E_0_11 + E_22_34 + E_0_34 - E_22_11\n",
    "\n",
    "print(E_tot)\n"
   ]
  },
  {
   "cell_type": "code",
   "execution_count": null,
   "metadata": {},
   "outputs": [],
   "source": []
  }
 ],
 "metadata": {
  "kernelspec": {
   "display_name": "Python 3",
   "language": "python",
   "name": "python3"
  },
  "language_info": {
   "codemirror_mode": {
    "name": "ipython",
    "version": 3
   },
   "file_extension": ".py",
   "mimetype": "text/x-python",
   "name": "python",
   "nbconvert_exporter": "python",
   "pygments_lexer": "ipython3",
   "version": "3.12.1"
  }
 },
 "nbformat": 4,
 "nbformat_minor": 2
}
