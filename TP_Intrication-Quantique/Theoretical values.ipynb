{
 "cells": [
  {
   "cell_type": "code",
   "execution_count": 2,
   "metadata": {},
   "outputs": [],
   "source": [
    "import numpy as np\n",
    "import matplotlib.pyplot as plt\n",
    "import importlib.util\n",
    "import sys\n",
    "import os\n",
    "from matplotlib.ticker import FuncFormatter\n",
    "from matplotlib.lines import Line2D\n",
    "import matplotlib.patches as mpatches\n",
    "from matplotlib.collections import PathCollection\n",
    "\n",
    "from matplotlib.patches import Rectangle\n",
    "from matplotlib.patches import ConnectionPatch\n",
    "\n",
    "from scipy.optimize import curve_fit\n",
    "\n",
    "module_name = \"utils_v2\"\n",
    "file_path = \"/workspaces/TP3/utils_v2.py\"\n",
    "\n",
    "spec = importlib.util.spec_from_file_location(module_name, file_path)\n",
    "module = importlib.util.module_from_spec(spec)\n",
    "sys.modules[module_name] = module\n",
    "spec.loader.exec_module(module)\n",
    "\n",
    "# Importer le module\n",
    "import utils_v2 as u\n",
    "\n",
    "import pandas as pd"
   ]
  },
  {
   "cell_type": "code",
   "execution_count": 14,
   "metadata": {},
   "outputs": [
    {
     "name": "stdout",
     "output_type": "stream",
     "text": [
      "1.414213562373095\n",
      "2.8284271247461903\n"
     ]
    }
   ],
   "source": [
    "#define the correlation function\n",
    "def P(alpha,beta) : \n",
    "    return 0.5*np.cos(2*(alpha-beta))**2\n",
    "\n",
    "def E(alpha,beta) : \n",
    "    return P(alpha,beta) + P(alpha + np.pi/4,beta + np.pi/4) - P(alpha + np.pi/4,beta) - P(alpha,beta + np.pi/4)\n",
    "\n",
    "def S(alpha,alphaprime,beta,betaprime) : \n",
    "    return E(alpha,beta) + E(alphaprime,betaprime) + E(alpha,betaprime) - E(alphaprime,beta)\n",
    "\n",
    "alpha = 0\n",
    "alphaprime = np.pi/4\n",
    "beta = np.pi/16\n",
    "betaprime = np.pi/16 + np.pi/8\n",
    "\n",
    "print(S(alpha,alphaprime,beta,betaprime))\n",
    "\n",
    "print(2*np.sqrt(2))\n",
    "\n"
   ]
  },
  {
   "cell_type": "code",
   "execution_count": 6,
   "metadata": {},
   "outputs": [
    {
     "name": "stdout",
     "output_type": "stream",
     "text": [
      "1.414213562373095\n",
      "2.8284271247461903\n",
      "Optimal parameters: [3.79908215 1.44288789 0.26479048 1.05018858]\n",
      "Optimal parameters in pi: [1.20928541 0.45928548 0.08428543 0.33428541]\n",
      "Optimal parameters in degrees: [217.67137341  82.67138628  15.17137689  60.17137358]\n",
      "0.875\n",
      "Maximum S: 2.8284271247460775\n"
     ]
    }
   ],
   "source": [
    "from scipy.optimize import minimize\n",
    "\n",
    "#define the correlation function\n",
    "def P(alpha,beta) : \n",
    "    return 0.5*(np.cos(alpha-beta)**2)\n",
    "\n",
    "def E(alpha,beta) : \n",
    "    return P(alpha,beta) + P(alpha + np.pi/2,beta + np.pi/2) - P(alpha + np.pi/2,beta) - P(alpha,beta + np.pi/2)\n",
    "\n",
    "def S(alpha,alphaprime,beta,betaprime) : \n",
    "    return E(alpha,beta) + E(alphaprime,betaprime) + E(alpha,betaprime) - E(alphaprime,beta)\n",
    "\n",
    "alpha = 0\n",
    "alphaprime = np.pi/2\n",
    "beta = np.pi/8\n",
    "betaprime = np.pi/8 + np.pi/4\n",
    "\n",
    "print(S(alpha,alphaprime,beta,betaprime))\n",
    "\n",
    "print(2*np.sqrt(2))\n",
    "    \n",
    "    \n",
    "    # Define the negative of S to maximize S\n",
    "def neg_S(params):\n",
    "    alpha, alphaprime, beta, betaprime = params\n",
    "    return -S(alpha, alphaprime, beta, betaprime)\n",
    "\n",
    "# Initial guess for the parameters\n",
    "initial_guess = [alpha, alphaprime, beta, betaprime]\n",
    "\n",
    "# Perform the optimization\n",
    "result = minimize(neg_S, initial_guess, bounds=[(0, 2*np.pi), (0, 2*np.pi), (0, 2*np.pi), (0, 2*np.pi)])\n",
    "\n",
    "# Extract the optimal parameters\n",
    "optimal_params = result.x\n",
    "optimal_S = -result.fun\n",
    "\n",
    "print(\"Optimal parameters:\", optimal_params)\n",
    "print(\"Optimal parameters in pi:\", optimal_params/np.pi)\n",
    "print(\"Optimal parameters in degrees:\", np.degrees(optimal_params))\n",
    "\n",
    "print(7/8)\n",
    "print(\"Maximum S:\", optimal_S)\n",
    "\n",
    "#alpha = 0\n",
    "#alphaprime = 7/4 pi\n",
    "#beta = 1/8 pi\n",
    "#betaprime = 7/8 pi\n",
    "\n",
    "\n"
   ]
  },
  {
   "cell_type": "code",
   "execution_count": null,
   "metadata": {},
   "outputs": [],
   "source": []
  }
 ],
 "metadata": {
  "kernelspec": {
   "display_name": "Python 3",
   "language": "python",
   "name": "python3"
  },
  "language_info": {
   "codemirror_mode": {
    "name": "ipython",
    "version": 3
   },
   "file_extension": ".py",
   "mimetype": "text/x-python",
   "name": "python",
   "nbconvert_exporter": "python",
   "pygments_lexer": "ipython3",
   "version": "3.12.1"
  }
 },
 "nbformat": 4,
 "nbformat_minor": 2
}
